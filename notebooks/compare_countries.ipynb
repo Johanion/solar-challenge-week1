{
 "cells": [
  {
   "cell_type": "code",
   "execution_count": 3,
   "id": "9ea74776",
   "metadata": {},
   "outputs": [],
   "source": [
    "import pandas as pd\n",
    "import seaborn as sns\n",
    "import matplotlib.pyplot as plt"
   ]
  },
  {
   "cell_type": "code",
   "execution_count": 9,
   "id": "10cd7ac3",
   "metadata": {},
   "outputs": [],
   "source": [
    "benin = pd.read_csv(\"data/benin-clean.csv\")\n",
    "sierra_leone = pd.read_csv(\"data/sierrialeone-clean.csv\")\n",
    "togo = pd.read_csv(\"data/togo-clean.csv\")"
   ]
  },
  {
   "cell_type": "code",
   "execution_count": 10,
   "id": "244b1ba8",
   "metadata": {},
   "outputs": [
    {
     "data": {
      "text/html": [
       "<div>\n",
       "<style scoped>\n",
       "    .dataframe tbody tr th:only-of-type {\n",
       "        vertical-align: middle;\n",
       "    }\n",
       "\n",
       "    .dataframe tbody tr th {\n",
       "        vertical-align: top;\n",
       "    }\n",
       "\n",
       "    .dataframe thead th {\n",
       "        text-align: right;\n",
       "    }\n",
       "</style>\n",
       "<table border=\"1\" class=\"dataframe\">\n",
       "  <thead>\n",
       "    <tr style=\"text-align: right;\">\n",
       "      <th></th>\n",
       "      <th>Timestamp</th>\n",
       "      <th>GHI</th>\n",
       "      <th>DNI</th>\n",
       "      <th>DHI</th>\n",
       "      <th>ModA</th>\n",
       "      <th>ModB</th>\n",
       "      <th>Tamb</th>\n",
       "      <th>RH</th>\n",
       "      <th>WS</th>\n",
       "      <th>WSgust</th>\n",
       "      <th>...</th>\n",
       "      <th>TModB</th>\n",
       "      <th>Comments</th>\n",
       "      <th>GHI_zscore</th>\n",
       "      <th>DNI_zscore</th>\n",
       "      <th>DHI_zscore</th>\n",
       "      <th>ModA_zscore</th>\n",
       "      <th>ModB_zscore</th>\n",
       "      <th>WS_zscore</th>\n",
       "      <th>WSgust_zscore</th>\n",
       "      <th>Country</th>\n",
       "    </tr>\n",
       "  </thead>\n",
       "  <tbody>\n",
       "    <tr>\n",
       "      <th>0</th>\n",
       "      <td>2021-08-09 00:01</td>\n",
       "      <td>-1.2</td>\n",
       "      <td>-0.2</td>\n",
       "      <td>-1.1</td>\n",
       "      <td>0.0</td>\n",
       "      <td>0.0</td>\n",
       "      <td>26.2</td>\n",
       "      <td>93.4</td>\n",
       "      <td>0.0</td>\n",
       "      <td>0.4</td>\n",
       "      <td>...</td>\n",
       "      <td>26.2</td>\n",
       "      <td>NaN</td>\n",
       "      <td>-0.730102</td>\n",
       "      <td>-0.639591</td>\n",
       "      <td>-0.733873</td>\n",
       "      <td>-0.723749</td>\n",
       "      <td>-0.723088</td>\n",
       "      <td>-1.322831</td>\n",
       "      <td>-1.187312</td>\n",
       "      <td>Benin</td>\n",
       "    </tr>\n",
       "    <tr>\n",
       "      <th>1</th>\n",
       "      <td>2021-08-09 00:02</td>\n",
       "      <td>-1.1</td>\n",
       "      <td>-0.2</td>\n",
       "      <td>-1.1</td>\n",
       "      <td>0.0</td>\n",
       "      <td>0.0</td>\n",
       "      <td>26.2</td>\n",
       "      <td>93.6</td>\n",
       "      <td>0.0</td>\n",
       "      <td>0.0</td>\n",
       "      <td>...</td>\n",
       "      <td>26.2</td>\n",
       "      <td>NaN</td>\n",
       "      <td>-0.729800</td>\n",
       "      <td>-0.639591</td>\n",
       "      <td>-0.733873</td>\n",
       "      <td>-0.723749</td>\n",
       "      <td>-0.723088</td>\n",
       "      <td>-1.322831</td>\n",
       "      <td>-1.384442</td>\n",
       "      <td>Benin</td>\n",
       "    </tr>\n",
       "    <tr>\n",
       "      <th>2</th>\n",
       "      <td>2021-08-09 00:03</td>\n",
       "      <td>-1.1</td>\n",
       "      <td>-0.2</td>\n",
       "      <td>-1.1</td>\n",
       "      <td>0.0</td>\n",
       "      <td>0.0</td>\n",
       "      <td>26.2</td>\n",
       "      <td>93.7</td>\n",
       "      <td>0.3</td>\n",
       "      <td>1.1</td>\n",
       "      <td>...</td>\n",
       "      <td>26.2</td>\n",
       "      <td>NaN</td>\n",
       "      <td>-0.729800</td>\n",
       "      <td>-0.639591</td>\n",
       "      <td>-0.733873</td>\n",
       "      <td>-0.723749</td>\n",
       "      <td>-0.723088</td>\n",
       "      <td>-1.135736</td>\n",
       "      <td>-0.842334</td>\n",
       "      <td>Benin</td>\n",
       "    </tr>\n",
       "    <tr>\n",
       "      <th>3</th>\n",
       "      <td>2021-08-09 00:04</td>\n",
       "      <td>-1.1</td>\n",
       "      <td>-0.1</td>\n",
       "      <td>-1.0</td>\n",
       "      <td>0.0</td>\n",
       "      <td>0.0</td>\n",
       "      <td>26.2</td>\n",
       "      <td>93.3</td>\n",
       "      <td>0.2</td>\n",
       "      <td>0.7</td>\n",
       "      <td>...</td>\n",
       "      <td>26.3</td>\n",
       "      <td>NaN</td>\n",
       "      <td>-0.729800</td>\n",
       "      <td>-0.639209</td>\n",
       "      <td>-0.733243</td>\n",
       "      <td>-0.723749</td>\n",
       "      <td>-0.723088</td>\n",
       "      <td>-1.198101</td>\n",
       "      <td>-1.039464</td>\n",
       "      <td>Benin</td>\n",
       "    </tr>\n",
       "    <tr>\n",
       "      <th>4</th>\n",
       "      <td>2021-08-09 00:05</td>\n",
       "      <td>-1.0</td>\n",
       "      <td>-0.1</td>\n",
       "      <td>-1.0</td>\n",
       "      <td>0.0</td>\n",
       "      <td>0.0</td>\n",
       "      <td>26.2</td>\n",
       "      <td>93.3</td>\n",
       "      <td>0.1</td>\n",
       "      <td>0.7</td>\n",
       "      <td>...</td>\n",
       "      <td>26.3</td>\n",
       "      <td>NaN</td>\n",
       "      <td>-0.729498</td>\n",
       "      <td>-0.639209</td>\n",
       "      <td>-0.733243</td>\n",
       "      <td>-0.723749</td>\n",
       "      <td>-0.723088</td>\n",
       "      <td>-1.260466</td>\n",
       "      <td>-1.039464</td>\n",
       "      <td>Benin</td>\n",
       "    </tr>\n",
       "  </tbody>\n",
       "</table>\n",
       "<p>5 rows × 27 columns</p>\n",
       "</div>"
      ],
      "text/plain": [
       "          Timestamp  GHI  DNI  DHI  ModA  ModB  Tamb    RH   WS  WSgust  ...  \\\n",
       "0  2021-08-09 00:01 -1.2 -0.2 -1.1   0.0   0.0  26.2  93.4  0.0     0.4  ...   \n",
       "1  2021-08-09 00:02 -1.1 -0.2 -1.1   0.0   0.0  26.2  93.6  0.0     0.0  ...   \n",
       "2  2021-08-09 00:03 -1.1 -0.2 -1.1   0.0   0.0  26.2  93.7  0.3     1.1  ...   \n",
       "3  2021-08-09 00:04 -1.1 -0.1 -1.0   0.0   0.0  26.2  93.3  0.2     0.7  ...   \n",
       "4  2021-08-09 00:05 -1.0 -0.1 -1.0   0.0   0.0  26.2  93.3  0.1     0.7  ...   \n",
       "\n",
       "   TModB  Comments  GHI_zscore  DNI_zscore  DHI_zscore  ModA_zscore  \\\n",
       "0   26.2       NaN   -0.730102   -0.639591   -0.733873    -0.723749   \n",
       "1   26.2       NaN   -0.729800   -0.639591   -0.733873    -0.723749   \n",
       "2   26.2       NaN   -0.729800   -0.639591   -0.733873    -0.723749   \n",
       "3   26.3       NaN   -0.729800   -0.639209   -0.733243    -0.723749   \n",
       "4   26.3       NaN   -0.729498   -0.639209   -0.733243    -0.723749   \n",
       "\n",
       "   ModB_zscore  WS_zscore  WSgust_zscore  Country  \n",
       "0    -0.723088  -1.322831      -1.187312    Benin  \n",
       "1    -0.723088  -1.322831      -1.384442    Benin  \n",
       "2    -0.723088  -1.135736      -0.842334    Benin  \n",
       "3    -0.723088  -1.198101      -1.039464    Benin  \n",
       "4    -0.723088  -1.260466      -1.039464    Benin  \n",
       "\n",
       "[5 rows x 27 columns]"
      ]
     },
     "execution_count": 10,
     "metadata": {},
     "output_type": "execute_result"
    }
   ],
   "source": [
    "benin['Country'] = 'Benin'\n",
    "sierra_leone['Country'] = 'Sierra Leone'\n",
    "togo['Country'] = 'Togo'\n",
    "\n",
    "# Combine into one DataFrame\n",
    "df_all = pd.concat([benin, sierra_leone, togo], ignore_index=True)\n",
    "\n",
    "df_all.head()"
   ]
  },
  {
   "cell_type": "code",
   "execution_count": 7,
   "id": "73cf799c",
   "metadata": {},
   "outputs": [
    {
     "name": "stderr",
     "output_type": "stream",
     "text": [
      "C:\\Users\\Yohannes\\AppData\\Local\\Temp\\ipykernel_22944\\19129799.py:6: FutureWarning: \n",
      "\n",
      "Passing `palette` without assigning `hue` is deprecated and will be removed in v0.14.0. Assign the `x` variable to `hue` and set `legend=False` for the same effect.\n",
      "\n",
      "  sns.boxplot(x='Country', y=metric, data=df_all, palette=\"Set2\")\n"
     ]
    },
    {
     "data": {
      "image/png": "[encoded data removed]",
      "text/plain": [
       "<Figure size 800x500 with 1 Axes>"
      ]
     },
     "metadata": {},
     "output_type": "display_data"
    },
    {
     "name": "stderr",
     "output_type": "stream",
     "text": [
      "C:\\Users\\Yohannes\\AppData\\Local\\Temp\\ipykernel_22944\\19129799.py:6: FutureWarning: \n",
      "\n",
      "Passing `palette` without assigning `hue` is deprecated and will be removed in v0.14.0. Assign the `x` variable to `hue` and set `legend=False` for the same effect.\n",
      "\n",
      "  sns.boxplot(x='Country', y=metric, data=df_all, palette=\"Set2\")\n"
     ]
    },
    {
     "data": {
      "image/png": "[encoded data removed]",
      "text/plain": [
       "<Figure size 800x500 with 1 Axes>"
      ]
     },
     "metadata": {},
     "output_type": "display_data"
    },
    {
     "name": "stderr",
     "output_type": "stream",
     "text": [
      "C:\\Users\\Yohannes\\AppData\\Local\\Temp\\ipykernel_22944\\19129799.py:6: FutureWarning: \n",
      "\n",
      "Passing `palette` without assigning `hue` is deprecated and will be removed in v0.14.0. Assign the `x` variable to `hue` and set `legend=False` for the same effect.\n",
      "\n",
      "  sns.boxplot(x='Country', y=metric, data=df_all, palette=\"Set2\")\n"
     ]
    },
    {
     "data": {
      "image/png": "[encoded data removed]",
      "text/plain": [
       "<Figure size 800x500 with 1 Axes>"
      ]
     },
     "metadata": {},
     "output_type": "display_data"
    }
   ],
   "source": [
    "sns.set(style=\"whitegrid\")\n",
    "metrics = ['GHI', 'DNI', 'DHI']\n",
    "\n",
    "for metric in metrics:\n",
    "    plt.figure(figsize=(8, 5))\n",
    "    sns.boxplot(x='Country', y=metric, data=df_all, palette=\"Set2\")\n",
    "    plt.title(f'{metric} Distribution by Country')\n",
    "    plt.ylabel(metric)\n",
    "    plt.xlabel('Country')\n",
    "    plt.tight_layout()\n",
    "    plt.show()"
   ]
  },
  {
   "cell_type": "code",
   "execution_count": 8,
   "id": "1f390f8a",
   "metadata": {},
   "outputs": [],
   "source": [
    "df_all = pd.concat([benin, sierra_leone, togo], ignore_index=True)\n"
   ]
  },
  {
   "cell_type": "code",
   "execution_count": 11,
   "metadata": {},
   "outputs": [
    {
     "data": {
      "text/html": [
       "<div>\n",
       "<style scoped>\n",
       "    .dataframe tbody tr th:only-of-type {\n",
       "        vertical-align: middle;\n",
       "    }\n",
       "\n",
       "    .dataframe tbody tr th {\n",
       "        vertical-align: top;\n",
       "    }\n",
       "\n",
       "    .dataframe thead tr th {\n",
       "        text-align: left;\n",
       "    }\n",
       "\n",
       "    .dataframe thead tr:last-of-type th {\n",
       "        text-align: right;\n",
       "    }\n",
       "</style>\n",
       "<table border=\"1\" class=\"dataframe\">\n",
       "  <thead>\n",
       "    <tr>\n",
       "      <th></th>\n",
       "      <th colspan=\"3\" halign=\"left\">GHI</th>\n",
       "      <th colspan=\"3\" halign=\"left\">DNI</th>\n",
       "      <th colspan=\"3\" halign=\"left\">DHI</th>\n",
       "    </tr>\n",
       "    <tr>\n",
       "      <th></th>\n",
       "      <th>mean</th>\n",
       "      <th>median</th>\n",
       "      <th>std</th>\n",
       "      <th>mean</th>\n",
       "      <th>median</th>\n",
       "      <th>std</th>\n",
       "      <th>mean</th>\n",
       "      <th>median</th>\n",
       "      <th>std</th>\n",
       "    </tr>\n",
       "    <tr>\n",
       "      <th>Country</th>\n",
       "      <th></th>\n",
       "      <th></th>\n",
       "      <th></th>\n",
       "      <th></th>\n",
       "      <th></th>\n",
       "      <th></th>\n",
       "      <th></th>\n",
       "      <th></th>\n",
       "      <th></th>\n",
       "    </tr>\n",
       "  </thead>\n",
       "  <tbody>\n",
       "    <tr>\n",
       "      <th>Benin</th>\n",
       "      <td>236.23</td>\n",
       "      <td>0.7</td>\n",
       "      <td>328.29</td>\n",
       "      <td>166.90</td>\n",
       "      <td>-0.1</td>\n",
       "      <td>262.08</td>\n",
       "      <td>111.66</td>\n",
       "      <td>0.5</td>\n",
       "      <td>153.10</td>\n",
       "    </tr>\n",
       "    <tr>\n",
       "      <th>Sierra Leone</th>\n",
       "      <td>223.86</td>\n",
       "      <td>0.5</td>\n",
       "      <td>317.31</td>\n",
       "      <td>147.98</td>\n",
       "      <td>0.0</td>\n",
       "      <td>247.68</td>\n",
       "      <td>112.78</td>\n",
       "      <td>1.5</td>\n",
       "      <td>151.57</td>\n",
       "    </tr>\n",
       "    <tr>\n",
       "      <th>Togo</th>\n",
       "      <td>223.86</td>\n",
       "      <td>0.5</td>\n",
       "      <td>317.31</td>\n",
       "      <td>147.98</td>\n",
       "      <td>0.0</td>\n",
       "      <td>247.68</td>\n",
       "      <td>112.78</td>\n",
       "      <td>1.5</td>\n",
       "      <td>151.57</td>\n",
       "    </tr>\n",
       "  </tbody>\n",
       "</table>\n",
       "</div>"
      ],
      "text/plain": [
       "                 GHI                    DNI                    DHI         \\\n",
       "                mean median     std    mean median     std    mean median   \n",
       "Country                                                                     \n",
       "Benin         236.23    0.7  328.29  166.90   -0.1  262.08  111.66    0.5   \n",
       "Sierra Leone  223.86    0.5  317.31  147.98    0.0  247.68  112.78    1.5   \n",
       "Togo          223.86    0.5  317.31  147.98    0.0  247.68  112.78    1.5   \n",
       "\n",
       "                      \n",
       "                 std  \n",
       "Country               \n",
       "Benin         153.10  \n",
       "Sierra Leone  151.57  \n",
       "Togo          151.57  "
      ]
     },
     "execution_count": 11,
     "metadata": {},
     "output_type": "execute_result"
    }
   ],
   "source": [
    "# Group by country and calculate summary stats\n",
    "summary = df_all.groupby('Country')[['GHI', 'DNI', 'DHI']].agg(['mean', 'median', 'std'])\n",
    "\n",
    "# Round for readability\n",
    "summary = summary.round(2)\n",
    "\n",
    "# Display\n",
    "summary\n"
   ]
  },
  {
   "cell_type": "code",
   "execution_count": 13,
   "id": "9947628a",
   "metadata": {},
   "outputs": [
    {
     "name": "stdout",
     "output_type": "stream",
     "text": [
      "ANOVA results:\n",
      "F-statistic: 256.267\n",
      "p-value: 0.0\n"
     ]
    }
   ],
   "source": [
    "from scipy.stats import f_oneway\n",
    "\n",
    "# Extract GHI values for each country\n",
    "ghi_benin = df_all[df_all['Country'] == 'Benin']['GHI']\n",
    "ghi_sierra = df_all[df_all['Country'] == 'Sierra Leone']['GHI']\n",
    "ghi_togo = df_all[df_all['Country'] == 'Togo']['GHI']\n",
    "\n",
    "# Perform one-way ANOVA\n",
    "f_stat, p_value = f_oneway(ghi_benin, ghi_sierra, ghi_togo)\n",
    "\n",
    "print(\"ANOVA results:\")\n",
    "print(\"F-statistic:\", round(f_stat, 3))\n",
    "print(\"p-value:\", round(p_value, 4))\n"
   ]
  },
  {
   "cell_type": "markdown",
   "id": "0859fa0b",
   "metadata": {},
   "source": [
    "summary"
   ]
  },
  {
   "cell_type": "markdown",
   "id": "31807936",
   "metadata": {},
   "source": [
    "- Benin shows the highest average GHI, making it promising for solar investment.\n",
    "- Sierra Leone has moderate solar potential but with more variability.\n",
    "- Togo has the lowest median GHI among the three"
   ]
  },
  {
   "cell_type": "code",
   "execution_count": null,
   "metadata": {},
   "outputs": [],
   "source": []
  },
  {
   "cell_type": "code",
   "execution_count": null,
   "metadata": {},
   "outputs": [],
   "source": []
  },
  {
   "cell_type": "code",
   "execution_count": null,
   "metadata": {},
   "outputs": [],
   "source": []
  },
  {
   "cell_type": "code",
   "execution_count": null,
   "metadata": {},
   "outputs": [],
   "source": []
  },
  {
   "cell_type": "code",
   "execution_count": null,
   "metadata": {},
   "outputs": [],
   "source": []
  },
  {
   "cell_type": "code",
   "execution_count": null,
   "metadata": {},
   "outputs": [],
   "source": []
  },
  {
   "cell_type": "code",
   "execution_count": null,
   "metadata": {},
   "outputs": [],
   "source": []
  },
  {
   "cell_type": "markdown",
   "metadata": {},
   "source": []
  },
  {
   "cell_type": "code",
   "execution_count": null,
   "metadata": {},
   "outputs": [],
   "source": []
  },
  {
   "cell_type": "code",
   "execution_count": null,
   "metadata": {},
   "outputs": [],
   "source": []
  },
  {
   "cell_type": "code",
   "execution_count": null,
   "metadata": {},
   "outputs": [],
   "source": []
  },
  {
   "cell_type": "code",
   "execution_count": null,
   "metadata": {},
   "outputs": [],
   "source": []
  },
  {
   "cell_type": "code",
   "execution_count": null,
   "metadata": {},
   "outputs": [],
   "source": []
  }
 ],
 "metadata": {
  "kernelspec": {
   "display_name": "venv",
   "language": "python",
   "name": "python3"
  },
  "language_info": {
   "codemirror_mode": {
    "name": "ipython",
    "version": 3
   },
   "file_extension": ".py",
   "mimetype": "text/x-python",
   "name": "python",
   "nbconvert_exporter": "python",
   "pygments_lexer": "ipython3",
   "version": "3.11.9"
  }
 },
 "nbformat": 4,
 "nbformat_minor": 5
}
